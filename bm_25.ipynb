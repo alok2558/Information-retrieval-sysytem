{
 "cells": [
  {
   "cell_type": "code",
   "execution_count": 40,
   "id": "cc958de1",
   "metadata": {},
   "outputs": [],
   "source": [
    "import numpy as np\n",
    "import pandas as pd\n",
    "import os\n",
    "import glob\n",
    "import nltk\n",
    "from nltk.collocations import *\n",
    "from nltk.tokenize import word_tokenize\n",
    "from nltk.corpus import stopwords\n",
    "from nltk import FreqDist\n",
    "import pickle\n",
    "import re\n",
    "from nltk.stem import PorterStemmer\n",
    "ps = PorterStemmer()"
   ]
  },
  {
   "cell_type": "code",
   "execution_count": 41,
   "id": "a3e49ffc",
   "metadata": {},
   "outputs": [],
   "source": [
    "Stopwords = set(stopwords.words('english'))"
   ]
  },
  {
   "cell_type": "code",
   "execution_count": 42,
   "id": "960bbd16",
   "metadata": {},
   "outputs": [],
   "source": [
    "with open('file_num.pkl', 'rb') as f:\n",
    "    file_num = pickle.load(f)\n",
    "    f.close()\n",
    "with open('post_file.pkl', 'rb') as f:\n",
    "    post_file = pickle.load(f)\n",
    "    f.close()\n",
    "with open('df.pkl', 'rb') as f:\n",
    "    df = pickle.load(f)\n",
    "    f.close()\n",
    "with open('length.pkl', 'rb') as f:\n",
    "    length = pickle.load(f)\n",
    "    f.close()"
   ]
  },
  {
   "cell_type": "code",
   "execution_count": 43,
   "id": "132c551f",
   "metadata": {},
   "outputs": [],
   "source": [
    "k=1.2\n",
    "b = 0.75"
   ]
  },
  {
   "cell_type": "code",
   "execution_count": 44,
   "id": "8bedae05",
   "metadata": {},
   "outputs": [],
   "source": [
    "summ = 0\n",
    "for i in range(8635):\n",
    "    summ = summ + length[i]\n",
    "l_avg = summ/8635"
   ]
  },
  {
   "cell_type": "code",
   "execution_count": 239,
   "id": "fe7b6055",
   "metadata": {},
   "outputs": [
    {
     "name": "stdout",
     "output_type": "stream",
     "text": [
      " what is choas theory\n"
     ]
    }
   ],
   "source": [
    "import math\n",
    "strr = input()\n",
    "regex = re.compile('[^a-zA-Z0-9\\s]')\n",
    "inputt = re.sub(regex,'',strr)\n",
    "inputt = re.sub(re.compile('\\d'),'',inputt)\n",
    "inputt = word_tokenize(inputt)\n",
    "for i in range(len(inputt)):\n",
    "    inputt[i] = ps.stem(inputt[i])\n",
    "inputt = [i for i in inputt if i not in Stopwords]\n",
    "ls = []\n",
    "for i in range(8635):\n",
    "    x =0\n",
    "    for j in inputt:\n",
    "        try:\n",
    "            idf = math.log((8635-df[j]+0.5)/(df[j]+0.5))\n",
    "        except KeyError:\n",
    "            idf =0\n",
    "        try:\n",
    "            tf= post_file[j][i]\n",
    "        except KeyError:\n",
    "            tf = 0\n",
    "        x = x + idf*(k+1)*tf/(tf+k*(1-b+b*(length[i]/l_avg)))\n",
    "    ls.append(x)\n",
    "        \n",
    "          \n"
   ]
  },
  {
   "cell_type": "code",
   "execution_count": 241,
   "id": "01cd5c41",
   "metadata": {},
   "outputs": [
    {
     "name": "stdout",
     "output_type": "stream",
     "text": [
      "M00050.txt 2.536199596865867\n",
      "M00011.txt 2.534154178076799\n",
      "L00337.txt 2.533797932651839\n",
      "M00032.txt 2.533721651567476\n",
      "C00182.txt 2.5335212726514773\n",
      "M00048.txt 2.533189965524252\n",
      "M00019.txt 2.532047607745224\n",
      "M00017.txt 2.528502900889857\n",
      "M00031.txt 2.528130414860973\n",
      "M00158.txt 2.527314015205627\n",
      "M00021.txt 2.524446279611318\n",
      "R00089.txt 2.523457593935195\n",
      "S00659.txt 2.5198068686780086\n",
      "M00072.txt 2.517430352092505\n",
      "C00900.txt 2.5170292974386808\n"
     ]
    }
   ],
   "source": [
    "for i in range(15):\n",
    "    max_value = max(ls)\n",
    "    print(file_num[ls.index(max_value)],max_value)\n",
    "    ls[ls.index(max_value)] = 0\n"
   ]
  },
  {
   "cell_type": "code",
   "execution_count": null,
   "id": "8c7b6aca",
   "metadata": {},
   "outputs": [],
   "source": []
  },
  {
   "cell_type": "code",
   "execution_count": null,
   "id": "e68fd9c7",
   "metadata": {},
   "outputs": [],
   "source": []
  }
 ],
 "metadata": {
  "kernelspec": {
   "display_name": "Python 3",
   "language": "python",
   "name": "python3"
  },
  "language_info": {
   "codemirror_mode": {
    "name": "ipython",
    "version": 3
   },
   "file_extension": ".py",
   "mimetype": "text/x-python",
   "name": "python",
   "nbconvert_exporter": "python",
   "pygments_lexer": "ipython3",
   "version": "3.8.8"
  }
 },
 "nbformat": 4,
 "nbformat_minor": 5
}
