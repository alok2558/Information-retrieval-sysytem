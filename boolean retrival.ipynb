{
 "cells": [
  {
   "cell_type": "code",
   "execution_count": 1,
   "id": "76bb6112",
   "metadata": {},
   "outputs": [],
   "source": [
    "import numpy as np\n",
    "import pandas as pd\n",
    "import os\n",
    "import glob\n",
    "import nltk\n",
    "from nltk.collocations import *\n",
    "from nltk.tokenize import word_tokenize\n",
    "from nltk.corpus import stopwords\n",
    "from nltk import FreqDist\n",
    "import pickle\n",
    "import re\n",
    "from nltk.stem import PorterStemmer\n",
    "ps = PorterStemmer()"
   ]
  },
  {
   "cell_type": "code",
   "execution_count": 4,
   "id": "12d875dd",
   "metadata": {},
   "outputs": [],
   "source": [
    "Stopwords = set(stopwords.words('english'))"
   ]
  },
  {
   "cell_type": "code",
   "execution_count": 2,
   "id": "589a2271",
   "metadata": {},
   "outputs": [],
   "source": [
    "with open('post_file.pkl', 'rb') as f:\n",
    "    tf = pickle.load(f)\n",
    "    f.close()\n",
    "\n",
    "with open('file_num.pkl', 'rb') as f:\n",
    "    file_num = pickle.load(f)\n",
    "    f.close()"
   ]
  },
  {
   "cell_type": "code",
   "execution_count": 52,
   "id": "642a0237",
   "metadata": {},
   "outputs": [
    {
     "name": "stdout",
     "output_type": "stream",
     "text": [
      "Enter your querychemical biology, molecular genetics, and immunochemistry\n"
     ]
    }
   ],
   "source": [
    "strr=input(\"Enter your query\")\n",
    "regex = re.compile('[^a-zA-Z0-9\\s]')\n",
    "inputt = re.sub(regex,'',strr)\n",
    "inputt = re.sub(re.compile('\\d'),'',inputt)\n",
    "inputt = word_tokenize(inputt)\n",
    "for i in range(len(inputt)):\n",
    "    inputt[i] = ps.stem(inputt[i])\n",
    "inputt = [i for i in inputt if i not in Stopwords]\n",
    "\n"
   ]
  },
  {
   "cell_type": "code",
   "execution_count": 53,
   "id": "5dc22cae",
   "metadata": {},
   "outputs": [],
   "source": [
    "ls=[]\n",
    "for i in range(8635):\n",
    "    ls.append(0)"
   ]
  },
  {
   "cell_type": "code",
   "execution_count": 54,
   "id": "d9393527",
   "metadata": {},
   "outputs": [],
   "source": [
    "for j in tf[inputt[0]].keys():\n",
    "    ls[j] = 1\n",
    "if(len(inputt) >1):\n",
    "    for i in range(1,len(inputt)):\n",
    "        for j in tf[inputt[i]].keys():\n",
    "            if(ls[j] ==i):\n",
    "                ls[j] = ls[j] + 1\n"
   ]
  },
  {
   "cell_type": "code",
   "execution_count": 55,
   "id": "a9fcf29c",
   "metadata": {},
   "outputs": [
    {
     "name": "stdout",
     "output_type": "stream",
     "text": [
      "D00736.txt\n",
      "D00859.txt\n",
      "S00366.txt\n",
      "S00393.txt\n"
     ]
    }
   ],
   "source": [
    "for i in range(8635):\n",
    "    if(ls[i] == len(inputt)):\n",
    "        print(file_num[i])"
   ]
  },
  {
   "cell_type": "code",
   "execution_count": null,
   "id": "2cb86b68",
   "metadata": {},
   "outputs": [],
   "source": []
  }
 ],
 "metadata": {
  "kernelspec": {
   "display_name": "Python 3",
   "language": "python",
   "name": "python3"
  },
  "language_info": {
   "codemirror_mode": {
    "name": "ipython",
    "version": 3
   },
   "file_extension": ".py",
   "mimetype": "text/x-python",
   "name": "python",
   "nbconvert_exporter": "python",
   "pygments_lexer": "ipython3",
   "version": "3.8.8"
  }
 },
 "nbformat": 4,
 "nbformat_minor": 5
}
