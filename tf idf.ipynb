{
 "cells": [
  {
   "cell_type": "code",
   "execution_count": 1,
   "id": "502ab8bc",
   "metadata": {},
   "outputs": [],
   "source": [
    "import numpy as np\n",
    "import pandas as pd\n",
    "import os\n",
    "import glob\n",
    "import nltk\n",
    "from nltk.collocations import *\n",
    "from nltk.tokenize import word_tokenize\n",
    "from nltk.corpus import stopwords\n",
    "from nltk import FreqDist\n",
    "import pickle\n",
    "import re\n",
    "from nltk.stem import PorterStemmer\n",
    "ps = PorterStemmer()\n",
    "Stopwords = set(stopwords.words('english'))"
   ]
  },
  {
   "cell_type": "code",
   "execution_count": 18,
   "id": "36c46477",
   "metadata": {},
   "outputs": [],
   "source": [
    "with open('post_file.pkl', 'rb') as f:\n",
    "    tf = pickle.load(f)\n",
    "    f.close()\n",
    "with open('l2_norm.pkl', 'rb') as f:\n",
    "    l2_norm = pickle.load(f)\n",
    "    f.close()\n",
    "with open('df.pkl', 'rb') as f:\n",
    "    df = pickle.load(f)\n",
    "    f.close()\n",
    "with open('file_num.pkl', 'rb') as f:\n",
    "    file_num = pickle.load(f)\n",
    "    f.close()"
   ]
  },
  {
   "cell_type": "code",
   "execution_count": 19,
   "id": "65bfdd71",
   "metadata": {},
   "outputs": [
    {
     "name": "stdout",
     "output_type": "stream",
     "text": [
      "mcu\n",
      "L00256.txt 0.004044174127582487\n",
      "L00317.txt 0.002341516950873026\n",
      "C00723.txt 0.0016378499309196452\n",
      "C00001.txt 0.0\n",
      "C00001.txt 0\n",
      "C00001.txt 0\n",
      "C00001.txt 0\n",
      "C00001.txt 0\n",
      "C00001.txt 0\n",
      "C00001.txt 0\n",
      "C00001.txt 0\n",
      "C00001.txt 0\n",
      "C00001.txt 0\n",
      "C00001.txt 0\n",
      "C00001.txt 0\n",
      "C00001.txt 0\n",
      "C00001.txt 0\n",
      "C00001.txt 0\n",
      "C00001.txt 0\n",
      "C00001.txt 0\n",
      "C00001.txt 0\n",
      "C00001.txt 0\n",
      "C00001.txt 0\n",
      "C00001.txt 0\n",
      "C00001.txt 0\n",
      "C00001.txt 0\n",
      "C00001.txt 0\n",
      "C00001.txt 0\n",
      "C00001.txt 0\n",
      "C00001.txt 0\n"
     ]
    }
   ],
   "source": [
    "import math\n",
    "strr = input()\n",
    "\n",
    "regex = re.compile('[^a-zA-Z0-9\\s]')\n",
    "inputt = re.sub(regex,'',strr)\n",
    "inputt = re.sub(re.compile('\\d'),'',inputt)\n",
    "inputt = word_tokenize(inputt)\n",
    "for i in range(len(inputt)):\n",
    "    inputt[i] = ps.stem(inputt[i])\n",
    "inputt = [i for i in inputt if i not in Stopwords]\n",
    "lis = []\n",
    "\n",
    "for j in range(8635):\n",
    "    temp = []\n",
    "    for i in inputt:\n",
    "        try:\n",
    "            tf_idf = tf[i][j]*math.log(8635/df[i])\n",
    "        except KeyError:\n",
    "            tf_idf = 0\n",
    "        tf_idf = tf_idf/l2_norm[j]\n",
    "        temp.append(tf_idf)\n",
    "    lis.append(temp)\n",
    "norm = 0\n",
    "temp_tf_idf =[]\n",
    "\n",
    "for i in inputt:\n",
    "    qtf_idf = inputt.count(i)*math.log(8635/df[i])\n",
    "    norm = norm + qtf_idf**2\n",
    "    norm = math.sqrt(norm)\n",
    "    temp_tf_idf.append(qtf_idf)\n",
    "\n",
    "for i in range(len(temp_tf_idf)):\n",
    "    temp_tf_idf[i] = temp_tf_idf[i]/norm\n",
    "\n",
    "top=[]\n",
    "for i in range(8635):\n",
    "    top.append(np.dot(lis[i],temp_tf_idf))\n",
    "for i in range(30):\n",
    "    max_value = max(top)\n",
    "    print(file_num[top.index(max_value)], max_value)\n",
    "    top[top.index(max_value)] = 0\n",
    "\n",
    "\n",
    "    \n",
    "    \n",
    "    \n",
    "        \n",
    "        \n",
    "        \n",
    "    "
   ]
  },
  {
   "cell_type": "code",
   "execution_count": 11,
   "id": "4a66fb06",
   "metadata": {},
   "outputs": [],
   "source": [
    "d = {'a':{'b':5}}"
   ]
  },
  {
   "cell_type": "code",
   "execution_count": 11,
   "id": "5cbe5b44",
   "metadata": {},
   "outputs": [
    {
     "data": {
      "text/plain": [
       "5"
      ]
     },
     "execution_count": 11,
     "metadata": {},
     "output_type": "execute_result"
    }
   ],
   "source": [
    "d['a']['b']"
   ]
  },
  {
   "cell_type": "code",
   "execution_count": 31,
   "id": "c5f21585",
   "metadata": {},
   "outputs": [
    {
     "data": {
      "text/plain": [
       "95"
      ]
     },
     "execution_count": 31,
     "metadata": {},
     "output_type": "execute_result"
    }
   ],
   "source": [
    "len(tf['modi'])"
   ]
  },
  {
   "cell_type": "code",
   "execution_count": null,
   "id": "dc2fefbb",
   "metadata": {},
   "outputs": [],
   "source": []
  }
 ],
 "metadata": {
  "kernelspec": {
   "display_name": "Python 3",
   "language": "python",
   "name": "python3"
  },
  "language_info": {
   "codemirror_mode": {
    "name": "ipython",
    "version": 3
   },
   "file_extension": ".py",
   "mimetype": "text/x-python",
   "name": "python",
   "nbconvert_exporter": "python",
   "pygments_lexer": "ipython3",
   "version": "3.8.8"
  }
 },
 "nbformat": 4,
 "nbformat_minor": 5
}
