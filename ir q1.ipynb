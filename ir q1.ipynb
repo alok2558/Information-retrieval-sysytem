{
 "cells": [
  {
   "cell_type": "code",
   "execution_count": 1,
   "id": "a0ddef17",
   "metadata": {},
   "outputs": [],
   "source": [
    "import numpy as np\n",
    "import pandas as pd\n",
    "import os\n",
    "import glob\n",
    "import nltk\n",
    "from nltk.collocations import *\n",
    "from nltk.tokenize import word_tokenize\n",
    "from nltk.corpus import stopwords\n",
    "from nltk import FreqDist\n",
    "Stopwords = set(stopwords.words('english'))\n",
    "import pickle"
   ]
  },
  {
   "cell_type": "code",
   "execution_count": 7,
   "id": "dd9720f8",
   "metadata": {},
   "outputs": [
    {
     "name": "stderr",
     "output_type": "stream",
     "text": [
      "[nltk_data] Downloading package stopwords to C:\\Users\\Alok\n",
      "[nltk_data]     Trivedy\\AppData\\Roaming\\nltk_data...\n",
      "[nltk_data]   Package stopwords is already up-to-date!\n"
     ]
    },
    {
     "data": {
      "text/plain": [
       "True"
      ]
     },
     "execution_count": 7,
     "metadata": {},
     "output_type": "execute_result"
    }
   ],
   "source": [
    "import nltk\n",
    "nltk.download('stopwords')\n",
    "  "
   ]
  },
  {
   "cell_type": "code",
   "execution_count": 45,
   "id": "c9d04d15",
   "metadata": {},
   "outputs": [],
   "source": [
    "from nltk.stem import PorterStemmer\n",
    "from collections import Counter\n",
    "import re\n",
    "ps = PorterStemmer()\n",
    "\n",
    "word_freq = {}\n",
    "file_folder = 'english-corpora/*'\n",
    "ind = 0\n",
    "file_num = {}\n",
    "ps = PorterStemmer()\n",
    "\n",
    "for file in glob.glob(file_folder):\n",
    "    file_num[ind] = os.path.basename(file)\n",
    "    file = open(file , \"r\",encoding='UTF-8')\n",
    "    inputt = file.read()\n",
    "    regex = re.compile('[^a-zA-Z0-9\\s]')\n",
    "    inputt = re.sub(regex,'',inputt)\n",
    "    inputt = re.sub(re.compile('\\d'),'',inputt)\n",
    "    inputt = word_tokenize(inputt)\n",
    "    for i in range(len(inputt)):\n",
    "        inputt[i] = ps.stem(inputt[i])\n",
    "    inputt = [i for i in inputt if i not in Stopwords]\n",
    "    ls = []\n",
    "    l_freq={}\n",
    "    for i in inputt:\n",
    "        if i not in ls:\n",
    "            ls.append(i)\n",
    "            l_freq[i] = 0\n",
    "            \n",
    "        l_freq[i] = l_freq[i] + 1;\n",
    "    word_freq.update(l_freq)\n",
    "    \n",
    "    ind = ind + 1\n",
    "    \n"
   ]
  },
  {
   "cell_type": "code",
   "execution_count": 6,
   "id": "06f4e7cc",
   "metadata": {},
   "outputs": [],
   "source": [
    "length = {}\n",
    "from nltk.stem import PorterStemmer\n",
    "from collections import Counter\n",
    "import re\n",
    "ps = PorterStemmer()\n",
    "\n",
    "word_freq = {}\n",
    "file_folder = 'english-corpora/*'\n",
    "ind = 0\n",
    "file_num = {}\n",
    "ps = PorterStemmer()\n",
    "\n",
    "for file in glob.glob(file_folder):\n",
    "    file_num[ind] = os.path.basename(file)\n",
    "    file = open(file , \"r\",encoding='UTF-8')\n",
    "    inputt = file.read()\n",
    "    regex = re.compile('[^a-zA-Z0-9\\s]')\n",
    "    inputt = re.sub(regex,'',inputt)\n",
    "    inputt = re.sub(re.compile('\\d'),'',inputt)\n",
    "    inputt = word_tokenize(inputt)\n",
    "    for i in range(len(inputt)):\n",
    "        inputt[i] = ps.stem(inputt[i])\n",
    "    inputt = [i for i in inputt if i not in Stopwords]\n",
    "    length[ind] = len(inputt)\n",
    "    ind = ind+1"
   ]
  },
  {
   "cell_type": "code",
   "execution_count": 9,
   "id": "26b9fc65",
   "metadata": {},
   "outputs": [
    {
     "data": {
      "text/plain": [
       "8635"
      ]
     },
     "execution_count": 9,
     "metadata": {},
     "output_type": "execute_result"
    }
   ],
   "source": []
  },
  {
   "cell_type": "code",
   "execution_count": 69,
   "id": "6aa465d2",
   "metadata": {},
   "outputs": [],
   "source": [
    "file_folder = 'english-corpora/*'\n",
    "ind = 0\n",
    "file_num = {}\n",
    "for file in glob.glob(file_folder):\n",
    "    file_num[ind] = os.path.basename(file)\n",
    "    ind = ind+1"
   ]
  },
  {
   "cell_type": "code",
   "execution_count": 71,
   "id": "c040fa91",
   "metadata": {},
   "outputs": [
    {
     "data": {
      "text/plain": [
       "'C00007.txt'"
      ]
     },
     "execution_count": 71,
     "metadata": {},
     "output_type": "execute_result"
    }
   ],
   "source": []
  },
  {
   "cell_type": "code",
   "execution_count": 50,
   "id": "5d6cb279",
   "metadata": {},
   "outputs": [],
   "source": [
    "tf = {}\n",
    "df = {}\n",
    "for i in word_freq.keys():\n",
    "    df[i] = 0\n",
    "    tf[i] = {}\n",
    "file_folder = 'english-corpora/*'\n",
    "ind = 0\n",
    "\n",
    "ps = PorterStemmer()\n",
    "for file in glob.glob(file_folder):\n",
    "    file = open(file , \"r\",encoding='UTF-8')\n",
    "    inputt = file.read()\n",
    "    regex = re.compile('[^a-zA-Z0-9\\s]')\n",
    "    inputt = re.sub(regex,'',inputt)\n",
    "    inputt = re.sub(re.compile('\\d'),'',inputt)\n",
    "    inputt = word_tokenize(inputt)\n",
    "    for i in range(len(inputt)):\n",
    "        inputt[i] = ps.stem(inputt[i])\n",
    "    inputt = [i for i in inputt if i not in Stopwords]\n",
    "    counter=Counter(inputt)\n",
    "    for i in counter.keys():\n",
    "        df[i]=df[i]+1\n",
    "        tf[i][ind]=counter[i]   \n",
    "    ind = ind + 1"
   ]
  },
  {
   "cell_type": "code",
   "execution_count": 52,
   "id": "2843e510",
   "metadata": {},
   "outputs": [
    {
     "data": {
      "text/plain": [
       "524233"
      ]
     },
     "execution_count": 52,
     "metadata": {},
     "output_type": "execute_result"
    }
   ],
   "source": [
    "df.keys())"
   ]
  },
  {
   "cell_type": "code",
   "execution_count": 65,
   "id": "45a07ed7",
   "metadata": {},
   "outputs": [
    {
     "data": {
      "text/plain": [
       "2"
      ]
     },
     "execution_count": 65,
     "metadata": {},
     "output_type": "execute_result"
    }
   ],
   "source": [
    "l = ['a','a','b']\n",
    "counter=Counter(l)\n",
    "counter['a']"
   ]
  },
  {
   "cell_type": "code",
   "execution_count": 56,
   "id": "ae166b31",
   "metadata": {},
   "outputs": [],
   "source": [
    "file_folder = 'english-corpora/*'\n",
    "ind = 0\n",
    "ls = []\n",
    "ps = PorterStemmer()\n",
    "for file in glob.glob(file_folder):\n",
    "    file = open(file , \"r\",encoding='UTF-8')\n",
    "    inputt = file.read()\n",
    "    regex = re.compile('[^a-zA-Z0-9\\s]')\n",
    "    inputt = re.sub(regex,'',inputt)\n",
    "    inputt = re.sub(re.compile('\\d'),'',inputt)\n",
    "    inputt = word_tokenize(inputt)\n",
    "    for i in range(len(inputt)):\n",
    "        inputt[i] = ps.stem(inputt[i])\n",
    "    inputt = [i for i in inputt if i not in Stopwords]\n",
    "    ls.append(inputt)\n",
    "    ind = ind+1"
   ]
  },
  {
   "cell_type": "code",
   "execution_count": 57,
   "id": "232ae35a",
   "metadata": {},
   "outputs": [
    {
     "data": {
      "text/plain": [
       "8635"
      ]
     },
     "execution_count": 57,
     "metadata": {},
     "output_type": "execute_result"
    }
   ],
   "source": [
    "len(ls)"
   ]
  },
  {
   "cell_type": "code",
   "execution_count": 61,
   "id": "3530c128",
   "metadata": {},
   "outputs": [],
   "source": [
    "l2={}\n",
    "ind=0\n",
    "for j in ls:\n",
    "    d =0\n",
    "    for i in j:\n",
    "        x = j.count(i)\n",
    "        d = d + (x*math.log(8635/df[i]))**2\n",
    "    l2[ind] =  math.sqrt(d)\n",
    "    ind = ind +1\n",
    "    "
   ]
  },
  {
   "cell_type": "code",
   "execution_count": 62,
   "id": "782a2b43",
   "metadata": {},
   "outputs": [
    {
     "data": {
      "text/plain": [
       "8635"
      ]
     },
     "execution_count": 62,
     "metadata": {},
     "output_type": "execute_result"
    }
   ],
   "source": [
    "len(l2.keys())"
   ]
  },
  {
   "cell_type": "code",
   "execution_count": 73,
   "id": "30bde2dc",
   "metadata": {},
   "outputs": [],
   "source": [
    "import pickle\n",
    "a_file = open(\"word_freq.pkl\", \"wb\")\n",
    "pickle.dump(word_freq, a_file)\n",
    "a_file.close()\n",
    "a_file = open(\"post_file.pkl\", \"wb\")\n",
    "pickle.dump(tf, a_file)\n",
    "a_file.close()\n",
    "a_file = open(\"df.pkl\", \"wb\")\n",
    "pickle.dump(df, a_file)\n",
    "a_file.close()\n",
    "a_file = open(\"l2_norm.pkl\", \"wb\")\n",
    "pickle.dump(l2, a_file)\n",
    "a_file.close()\n",
    "a_file = open(\"uni_term_doc.pkl\", \"wb\")\n",
    "pickle.dump(ls, a_file)\n",
    "a_file.close()\n"
   ]
  },
  {
   "cell_type": "code",
   "execution_count": 74,
   "id": "f3c9233c",
   "metadata": {},
   "outputs": [],
   "source": [
    "import pickle\n",
    "a_file = open(\"file_num.pkl\", \"wb\")\n",
    "pickle.dump(file_num, a_file)\n",
    "a_file.close()"
   ]
  },
  {
   "cell_type": "code",
   "execution_count": 10,
   "id": "708b2011",
   "metadata": {},
   "outputs": [],
   "source": [
    "import pickle\n",
    "a_file = open(\"length.pkl\", \"wb\")\n",
    "pickle.dump(length, a_file)\n",
    "a_file.close()"
   ]
  },
  {
   "cell_type": "code",
   "execution_count": null,
   "id": "ddb6cd23",
   "metadata": {},
   "outputs": [],
   "source": []
  }
 ],
 "metadata": {
  "kernelspec": {
   "display_name": "Python 3",
   "language": "python",
   "name": "python3"
  },
  "language_info": {
   "codemirror_mode": {
    "name": "ipython",
    "version": 3
   },
   "file_extension": ".py",
   "mimetype": "text/x-python",
   "name": "python",
   "nbconvert_exporter": "python",
   "pygments_lexer": "ipython3",
   "version": "3.8.8"
  }
 },
 "nbformat": 4,
 "nbformat_minor": 5
}
